{
 "cells": [
  {
   "cell_type": "code",
   "execution_count": null,
   "metadata": {},
   "outputs": [],
   "source": [
    "import pandas as pd\n",
    "\n",
    "RAW_FILE = 'search-co-occurrences-in-session.csv'\n",
    "\n",
    "# query1 query2 count\n",
    "df = pd.read_csv(RAW_FILE)\n",
    "\n",
    "df.head()\n"
   ]
  },
  {
   "cell_type": "code",
   "execution_count": null,
   "metadata": {},
   "outputs": [],
   "source": [
    "import re\n",
    "def norm_query(q):\n",
    "    \n",
    "    \n",
    "    ### Only accept queries that have at least one char or digit\n",
    "    ### strip off from everything that is not a char or digit  \n",
    "    \n",
    "    ### returns a normalised query string(lowercase, tokens sorted alphabetically and concatenated with '_')\n",
    "    \n",
    "    start = 0\n",
    "    while (start < len(q) and (not (q[start].isalpha() or q[start].isdigit()))):\n",
    "        start +=1\n",
    "    \n",
    "    end = len(q) - 1\n",
    "    while ((end > start) and (not (q[end].isalpha() or q[end].isdigit()))):\n",
    "        end -=1\n",
    "        \n",
    "    if start >= end:\n",
    "        return '_____NULL_____' # returning None somehow didn't work here\n",
    "    \n",
    "    tokens = re.split(\"\\s+\", q[start:end + 1].lower()) \n",
    "    tokens.sort()\n",
    "    return '_'.join(tokens)\n",
    "    \n",
    "df['query1_norm'] = pd.Series(df['query1'].apply(norm_query), index=df.index)\n",
    "df['query2_norm'] = pd.Series(df['query2'].apply(norm_query), index=df.index)\n",
    "\n",
    "q1 = df[df['query1_norm'] != '_____NULL_____']\n",
    "queries = q1[q1['query2_norm'] != '_____NULL_____']\n",
    "\n",
    "# a doc will be a list co-occurring q1, q2 tuples\n",
    "\n",
    "# trainng docs. (q1,q2) will be added count times, where count is how often the cooccurrence was observed\n",
    "train_docs = []\n",
    "\n",
    "for index, row in queries.iterrows():\n",
    "    q1 = row['query1_norm']\n",
    "    q2 = row['query2_norm']\n",
    "    \n",
    "    if q1 != q2:\n",
    "        doc = [q1, q2]\n",
    "        for i in range(row['count']): \n",
    "            train_docs.append(doc)\n",
    "        \n",
    "\n",
    "    "
   ]
  },
  {
   "cell_type": "code",
   "execution_count": null,
   "metadata": {},
   "outputs": [],
   "source": [
    "#!pip3 install gensim \n",
    "import gensim \n",
    "\n",
    "print(len(train_docs))\n",
    "\n",
    "# we could work with less strict settings (VECTOR_SIZE=100, min_counz=1)\n",
    "VECTOR_SIZE = 300\n",
    "\n",
    "model = gensim.models.Word2Vec (train_docs, size=VECTOR_SIZE, window=3, min_count=2, workers=10)\n",
    "model.train(train_docs,total_examples=len(train_docs),epochs=200)\n",
    "\n"
   ]
  },
  {
   "cell_type": "code",
   "execution_count": null,
   "metadata": {},
   "outputs": [],
   "source": [
    "#model.wv.save('q2vec-d100-c2-e200')\n",
    "#model.wv.save('q2vec-d300-c1-e100')\n",
    "#model.wv.save('q2vec-d300-c2-e100')\n",
    "#model.wv.save('q2vec-d300-c2-e200')\n",
    "#model.wv.save('q2vec-d300-c2-e400')"
   ]
  },
  {
   "cell_type": "code",
   "execution_count": null,
   "metadata": {},
   "outputs": [],
   "source": [
    "model.wv.most_similar('blue boots')"
   ]
  }
 ],
 "metadata": {
  "kernelspec": {
   "display_name": "Python 3",
   "language": "python",
   "name": "python3"
  },
  "language_info": {
   "codemirror_mode": {
    "name": "ipython",
    "version": 3
   },
   "file_extension": ".py",
   "mimetype": "text/x-python",
   "name": "python",
   "nbconvert_exporter": "python",
   "pygments_lexer": "ipython3",
   "version": "3.6.1"
  }
 },
 "nbformat": 4,
 "nbformat_minor": 2
}
